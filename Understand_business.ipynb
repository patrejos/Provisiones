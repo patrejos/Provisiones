{
 "cells": [
  {
   "cell_type": "markdown",
   "metadata": {},
   "source": [
    "<center><h3 style=\"color:#1D5AFC\">Entendiendo el Problema</h3></center>"
   ]
  },
  {
   "cell_type": "markdown",
   "metadata": {},
   "source": [
    "<h4>Descripción general del problema</h4>"
   ]
  },
  {
   "cell_type": "markdown",
   "metadata": {},
   "source": [
    "Para realizar un correcto entendimiento del problema de provisiones para la linea de seguro <strong>F2</strong> que se refiere a las reclamaciones llevadas a cabo por mala praxis medica en seguros sura se revisará los individuos relevantes, con el que se pueda conformar un comite de revision del proyecto."
   ]
  },
  {
   "cell_type": "code",
   "execution_count": null,
   "metadata": {},
   "outputs": [],
   "source": []
  }
 ],
 "metadata": {
  "language_info": {
   "name": "python"
  },
  "orig_nbformat": 4
 },
 "nbformat": 4,
 "nbformat_minor": 2
}
