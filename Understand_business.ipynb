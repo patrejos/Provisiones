{
 "cells": [
  {
   "cell_type": "markdown",
   "metadata": {},
   "source": [
    "<center><h3 style=\"color:#1D5AFC\">Entendiendo el Negocio</h3></center>"
   ]
  },
  {
   "cell_type": "markdown",
   "metadata": {},
   "source": [
    "<h4 style=\"color:#1D5AFC\">Descripción general del negocio</h4>"
   ]
  },
  {
   "cell_type": "markdown",
   "metadata": {},
   "source": [
    "El grupo Sura es un grupo de inversionistas que manejan diferentes lineas de negocios, a estas pertenece Seguros Sura que ofrece varios tipos de seguros entre estos un tipo de seguros tanto para profesionales de la salud como para empresas prestadoras de Salud. La aseguradora cubre en el caso de ser demandados por mala praxis médica, que puede incluir un mal diagnostico, negligencia medica o error humano. Estos seguros pueden ser de dos tipos: basado en ocurrencia o en reclamos realizados. En el primero la cobertura funciona durante el tiempo de la póliza, sin importar si los reclamos son presentados después de la vigencia de la póliza, importa cuándo ocurrio el evento; en el segundo caso la coberura solo aplica si durante el tiempo de póliza se realiza la reclamación. \n",
    "\n",
    "Las provisiones son un aspecto importante de las empresas de seguros, pues son necesarias para evitar problemas legales y para no afectar la liquidez de la empresa. Se realiza un estudio de provisiones dependiendo de la linea de seguro, en este caso del seguro por mala práctica médica"
   ]
  },
  {
   "cell_type": "markdown",
   "metadata": {},
   "source": [
    "<h4 style=\"color:#1D5AFC\">Previos para establecer los objetivos del estudio a realizar </h4>"
   ]
  },
  {
   "cell_type": "markdown",
   "metadata": {},
   "source": [
    "Con la finalidad de buscar unos objetivos centrados al negocio se realizó un analisis de la estructura organizacional de seguros sura, para poder encontrar la posibles areas con la que se va a encontrar puntos en comun y apoyo para la realización del proyecto"
   ]
  },
  {
   "cell_type": "markdown",
   "metadata": {},
   "source": [
    "<img src=\"Organigrama.drawio.png\" alt=\"Image Description\">"
   ]
  },
  {
   "cell_type": "markdown",
   "metadata": {},
   "source": [
    "Los principales indivudos con los que se comenzara una estrecha relación son:\n",
    "- Departamento Actuarial\n",
    "- Departamento de Finanzas\n",
    "- Departamento de reclamaciones\n",
    "- Departamento IT (Gerente Base de Datos)\n",
    "- Departamento de operaciones (Personal de entrada de datos)\n"
   ]
  },
  {
   "cell_type": "markdown",
   "metadata": {},
   "source": [
    "Analizando las diferentes soluciones que la empresa ha intentado darle, utilizando el metodo de chain ladder deterministico, que es un metodo matematico donde se computa un calculo con los calores diferentes de nuestro triangulo "
   ]
  },
  {
   "cell_type": "markdown",
   "metadata": {},
   "source": [
    "<h4 style=\"color:#1D5AFC\">Objetivos del estudio y criterios de exito</h4>"
   ]
  },
  {
   "cell_type": "markdown",
   "metadata": {},
   "source": [
    "- Mejorar la precisión de provisiones estimadas para la linea de seguro <strong>F2</strong>\n",
    "- Encontrar patrones en los datos que permitan entender mejor los factores que podrian influenciar las reclamaciones\n",
    "\n",
    "El estudio se declara como un exito si\n",
    "\n",
    "- Se logra reducir el consumo computacional por parte del metodo \n",
    "- Los resultados del nuevo metodo son mas precisos que los resultados otorgados por el metodo que se utiliza actualmente\n",
    "- Se mejora la relación entre departamentos "
   ]
  },
  {
   "cell_type": "markdown",
   "metadata": {},
   "source": [
    "<h4 style=\"color:#1D5AFC\">Evaluando la situación con ciertos riesgos</h4>"
   ]
  },
  {
   "cell_type": "markdown",
   "metadata": {},
   "source": [
    "- La cantidad de datos parece ser reducida por la cantidad de años que se tienen registrados \n",
    "- El tiempo de ejecución del proyecto"
   ]
  },
  {
   "cell_type": "markdown",
   "metadata": {},
   "source": [
    "<h4 style=\"color:#1D5AFC\">Objetivos de la mineria de datos</h4>"
   ]
  },
  {
   "cell_type": "markdown",
   "metadata": {},
   "source": [
    "- Predecir las posibles reclamaciones que se realizaran en un futuro\n",
    "- Validar y comparar la precision de los mdoelos guiados por datos contra otros modelos tradicionales."
   ]
  },
  {
   "cell_type": "markdown",
   "metadata": {},
   "source": [
    "<h4 style=\"color:#1D5AFC\">Plan del proyecto</h4>"
   ]
  },
  {
   "cell_type": "markdown",
   "metadata": {},
   "source": [
    "<img src=\"Imagen1.png\" alt=\"Image Description\">"
   ]
  }
 ],
 "metadata": {
  "language_info": {
   "name": "python"
  },
  "orig_nbformat": 4
 },
 "nbformat": 4,
 "nbformat_minor": 2
}
